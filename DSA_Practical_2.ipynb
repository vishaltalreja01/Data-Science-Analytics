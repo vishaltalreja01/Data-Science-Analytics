{
  "nbformat": 4,
  "nbformat_minor": 0,
  "metadata": {
    "colab": {
      "provenance": [],
      "authorship_tag": "ABX9TyNf7R+1GUxTMt2d2ko8kjQa",
      "include_colab_link": true
    },
    "kernelspec": {
      "name": "python3",
      "display_name": "Python 3"
    },
    "language_info": {
      "name": "python"
    }
  },
  "cells": [
    {
      "cell_type": "markdown",
      "metadata": {
        "id": "view-in-github",
        "colab_type": "text"
      },
      "source": [
        "<a href=\"https://colab.research.google.com/github/vishaltalreja01/Data-Science-Analytics/blob/main/DSA_Practical_2.ipynb\" target=\"_parent\"><img src=\"https://colab.research.google.com/assets/colab-badge.svg\" alt=\"Open In Colab\"/></a>"
      ]
    },
    {
      "cell_type": "markdown",
      "source": [
        "# **Variables & Types**\n",
        "*Question 1:*\n",
        "\n",
        "\n",
        "\n",
        "*   Create a variable savings with the value 100.\n",
        "*   Check out this variable by typing print(savings) in the script."
      ],
      "metadata": {
        "id": "THhd-sgrAEpU"
      }
    },
    {
      "cell_type": "code",
      "source": [
        "savings = 100\n",
        "print(savings)"
      ],
      "metadata": {
        "colab": {
          "base_uri": "https://localhost:8080/"
        },
        "id": "OrbMjavkAgMC",
        "outputId": "ef7aec24-b773-4b45-eb2b-343d508321bd"
      },
      "execution_count": 16,
      "outputs": [
        {
          "output_type": "stream",
          "name": "stdout",
          "text": [
            "100\n"
          ]
        }
      ]
    },
    {
      "cell_type": "markdown",
      "source": [
        "*Question 2:*\n",
        "\n",
        "*   Create a variable factor, equal to 1.10\n",
        "*   Use savings and factor to calculate the amount of money you end up with after 7 years. Store the result in a new variable, result.\n",
        "*   Print out the value of result.\n",
        "\n"
      ],
      "metadata": {
        "id": "ZBp_lNXLAxTF"
      }
    },
    {
      "cell_type": "code",
      "source": [
        "factor = 1.10\n",
        "result = savings * (factor ** 7)\n",
        "print(result)"
      ],
      "metadata": {
        "colab": {
          "base_uri": "https://localhost:8080/"
        },
        "id": "bVphODzdBB1i",
        "outputId": "a4ad0f61-6313-4f8e-e0be-5a4f632cdb9d"
      },
      "execution_count": 17,
      "outputs": [
        {
          "output_type": "stream",
          "name": "stdout",
          "text": [
            "194.87171000000012\n"
          ]
        }
      ]
    },
    {
      "cell_type": "markdown",
      "source": [
        "# **Python Lists**\n",
        "*Question 3:*\n",
        "\n",
        "*   Create a list, areas, that contains the area of the hallway (hall), kitchen (kit), living room (liv), bedroom (bed) and bathroom (bath), in this order. Use the predefined variables.\n",
        "*   Print areas with the print() function."
      ],
      "metadata": {
        "id": "RfsZQ1S0BZ2X"
      }
    },
    {
      "cell_type": "code",
      "source": [
        "hall = 7.5\n",
        "kit = 10.2\n",
        "liv = 16.3\n",
        "bed = 8.7\n",
        "bath = 4.8\n",
        "areas = [hall, kit, liv, bed, bath]\n",
        "print(areas)"
      ],
      "metadata": {
        "colab": {
          "base_uri": "https://localhost:8080/"
        },
        "id": "d7KFVMO6Bm2z",
        "outputId": "df80d89f-771a-4b8f-cc2e-3e95eccfe179"
      },
      "execution_count": 47,
      "outputs": [
        {
          "output_type": "stream",
          "name": "stdout",
          "text": [
            "[7.5, 10.2, 16.3, 8.7, 4.8]\n"
          ]
        }
      ]
    },
    {
      "cell_type": "markdown",
      "source": [
        "# **List sub-setting**\n",
        "*Question 4:*\n",
        "\n",
        "*   Print out the second element from the areas list, so 11.25.\n",
        "*   Subset and print out the last element of areas, being 9.50. Using a negative index makes sense here!\n",
        "*   Select the number representing the area of the living room and print it out."
      ],
      "metadata": {
        "id": "FCbR7hiQCBcd"
      }
    },
    {
      "cell_type": "code",
      "source": [
        "areas = [\"hallway\", 11.25, \"kitchen\", 18.0, \"living room\", 20.0, \"bedroom\", 10.75, \"bathroom\", 9.50]\n",
        "\n",
        "# Print out second element from areas\n",
        "print(areas[1])\n",
        "\n",
        "# Print out last element from areas\n",
        "print(areas[-1])\n",
        "\n",
        "# Print out the area of the living room\n",
        "print(\"area of living room = \", areas[5])"
      ],
      "metadata": {
        "colab": {
          "base_uri": "https://localhost:8080/"
        },
        "id": "b0cLH1MnCrWD",
        "outputId": "57bcfaf8-2ba0-4987-c5dd-3b06fe232b0e"
      },
      "execution_count": 48,
      "outputs": [
        {
          "output_type": "stream",
          "name": "stdout",
          "text": [
            "11.25\n",
            "9.5\n",
            "area of living room =  20.0\n"
          ]
        }
      ]
    },
    {
      "cell_type": "markdown",
      "source": [
        "# **List Manipulation**\n",
        "**Question 5:**\n",
        "\n",
        "*   You did a miscalculation when determining the area of the bathroom; it's 10.50 square meters instead of 9.50. Can you make the changes?\n",
        "*   Make the areas list more trendy! Change \"living room\" to \"chill zone\"."
      ],
      "metadata": {
        "id": "wuDha5C5DmWU"
      }
    },
    {
      "cell_type": "code",
      "source": [
        "# Correct the bathroom area\n",
        "areas[-1] = 10.5\n",
        "\n",
        "# Change \"living room\" to \"chill zone\"\n",
        "areas[4] = \"chill zone\"\n",
        "\n",
        "print(areas)"
      ],
      "metadata": {
        "colab": {
          "base_uri": "https://localhost:8080/"
        },
        "id": "MHiTQHAmECBH",
        "outputId": "992156a3-935e-47e4-be97-572b6193d492"
      },
      "execution_count": 49,
      "outputs": [
        {
          "output_type": "stream",
          "name": "stdout",
          "text": [
            "['hallway', 11.25, 'kitchen', 18.0, 'chill zone', 20.0, 'bedroom', 10.75, 'bathroom', 10.5]\n"
          ]
        }
      ]
    },
    {
      "cell_type": "markdown",
      "source": [
        "# **Functions**\n",
        "**Question 6:**\n",
        "\n",
        "*  Use print() in combination with type() to print out the type of var1.\n",
        "*  Use len() to get the length of the list var1. Wrap it in a print() call to directly print it out.\n",
        "*  Use int() to convert var2 to an integer. Store the output as out2.\n"
      ],
      "metadata": {
        "id": "T1msfJyKEiIk"
      }
    },
    {
      "cell_type": "code",
      "source": [
        "# Create variables var1 and var2\n",
        "var1 = [1, 2, 3, 4]\n",
        "var2 = True\n",
        "\n",
        "# Print out type of var1\n",
        "print(type(var1))\n",
        "\n",
        "# Print out length of var1\n",
        "print(len(var1))\n",
        "\n",
        "# Convert var2 to an integer: out2\n",
        "out2 = int(var2)\n",
        "print(type(out2))"
      ],
      "metadata": {
        "colab": {
          "base_uri": "https://localhost:8080/"
        },
        "id": "dNs9UywXEu0-",
        "outputId": "4a9bc1d8-c246-43a9-9018-43b912ca9e29"
      },
      "execution_count": 50,
      "outputs": [
        {
          "output_type": "stream",
          "name": "stdout",
          "text": [
            "<class 'list'>\n",
            "4\n",
            "<class 'int'>\n"
          ]
        }
      ]
    },
    {
      "cell_type": "markdown",
      "source": [
        "# **Methods**\n",
        "**Question 7: String Methods**\n",
        "\n",
        "*  Use the upper() method on room and store the result in room_up. Use the dot notation.\n",
        "*  Print out room and room_up. Did both change?\n",
        "*  Print out the number of o's on the variable room by calling count() on room and passing the letter \"o\" as an input to the method. We're talking about the variable room, not the word \"room\"!\n"
      ],
      "metadata": {
        "id": "93kT78W_Fdgt"
      }
    },
    {
      "cell_type": "code",
      "source": [
        "# string to experiment with: room\n",
        "room = \"poolhouse\"\n",
        "\n",
        "# Use upper() on room: room_up\n",
        "room_up = room.upper()\n",
        "\n",
        "# Print out room and room_up\n",
        "print(\"lowercase:\", room)\n",
        "print('upercase:', room_up)\n",
        "\n",
        "# Print out the number of o's in room\n",
        "No_of_Zeros = room.count(\"o\")\n",
        "print(\"No of zeros : \",No_of_Zeros)\n"
      ],
      "metadata": {
        "colab": {
          "base_uri": "https://localhost:8080/"
        },
        "id": "3SH4VY6wFnwZ",
        "outputId": "464c56c2-9562-4753-d9ab-ddc3a3d40987"
      },
      "execution_count": 23,
      "outputs": [
        {
          "output_type": "stream",
          "name": "stdout",
          "text": [
            "lowercase: poolhouse\n",
            "upercase: POOLHOUSE\n",
            "No of zeros :  3\n"
          ]
        }
      ]
    },
    {
      "cell_type": "markdown",
      "source": [
        "# **Packages**\n",
        "**Question** 8:\n",
        "\n",
        "*  Import the math package. Now you can access the constant pi with math.pi.\n",
        "*  Calculate the circumference of the circle and store it in C.\n",
        "*  Calculate the area of the circle and store it in A.\n"
      ],
      "metadata": {
        "id": "4BAFKkW5KFYU"
      }
    },
    {
      "cell_type": "code",
      "source": [
        "# Definition of radius\n",
        "r = 0.43\n",
        "\n",
        "# Import the math package\n",
        "import math\n",
        "\n",
        "# Calculate circumference of the circle\n",
        "C = 2 * math.pi * r\n",
        "\n",
        "# Calculate area of the circle\n",
        "A = math.pi * r**2\n",
        "\n",
        "# Build printout\n",
        "print(\"Circumference: \" + str(C))\n",
        "print(\"Area: \" + str(A))\n"
      ],
      "metadata": {
        "colab": {
          "base_uri": "https://localhost:8080/"
        },
        "id": "YKk10hF2KN2X",
        "outputId": "3cf57c89-6492-4e83-d764-4baa6bc57668"
      },
      "execution_count": 24,
      "outputs": [
        {
          "output_type": "stream",
          "name": "stdout",
          "text": [
            "Circumference: 2.701769682087222\n",
            "Area: 0.5808804816487527\n"
          ]
        }
      ]
    },
    {
      "cell_type": "markdown",
      "source": [
        "# **Numpy Package**\n",
        "**Question** 9:\n",
        "\n",
        "*  import the numpy package as np, so that you can refer to numpy with np.\n",
        "*  Use np.array() to create a Numpy array from baseball. Name this array np_baseball.\n",
        "*  Print out the type of np_baseball to check that you got it right.\n"
      ],
      "metadata": {
        "id": "15yl4QY_KmDh"
      }
    },
    {
      "cell_type": "code",
      "source": [
        "# Create list baseball\n",
        "baseball = [180, 215, 210, 210, 188, 176, 209, 200]\n",
        "\n",
        "# Import the numpy package as np\n",
        "import numpy as np\n",
        "\n",
        "# Create a Numpy array from baseball: np_baseball\n",
        "np_baseball = np.array(baseball)\n",
        "\n",
        "# Print out type of np_baseball\n",
        "print(type(np_baseball))\n"
      ],
      "metadata": {
        "colab": {
          "base_uri": "https://localhost:8080/"
        },
        "id": "BlOnH8p_Ktnx",
        "outputId": "9a11eefe-3100-4f0b-eae6-8b17512557bd"
      },
      "execution_count": 26,
      "outputs": [
        {
          "output_type": "stream",
          "name": "stdout",
          "text": [
            "<class 'numpy.ndarray'>\n"
          ]
        }
      ]
    },
    {
      "cell_type": "markdown",
      "source": [
        "# **2D Numpy Arrays**\n",
        "Question **10**: First 2D numpy array\n",
        "\n",
        "*  Use np.array() to create a 2D Numpy array from baseball. Name it np_baseball.\n",
        "*  Print out the type of np_baseball.\n",
        "*  Print out the shape attribute of np_baseball. Use np_baseball.shape.\n"
      ],
      "metadata": {
        "id": "KdyWvR8eK-XB"
      }
    },
    {
      "cell_type": "code",
      "source": [
        "# Create baseball, a list of lists\n",
        "baseball = [[180, 78.4],\n",
        "            [215, 102.7],\n",
        "            [210, 98.5],\n",
        "            [188, 75.2]]\n",
        "\n",
        "# Import numpy\n",
        "import numpy as np\n",
        "\n",
        "# Create a 2D Numpy array from baseball: np_baseball\n",
        "np_baseball = np.array(baseball)\n",
        "\n",
        "# Print out the type of np_baseball\n",
        "print(type(np_baseball))\n",
        "print(np_baseball.shape)"
      ],
      "metadata": {
        "colab": {
          "base_uri": "https://localhost:8080/"
        },
        "id": "nrHp-x2sLE5W",
        "outputId": "65193e11-5dab-4f14-a076-6a7ff84adb2c"
      },
      "execution_count": 29,
      "outputs": [
        {
          "output_type": "stream",
          "name": "stdout",
          "text": [
            "<class 'numpy.ndarray'>\n",
            "(4, 2)\n"
          ]
        }
      ]
    },
    {
      "cell_type": "markdown",
      "source": [
        "# **Basic Statistics with Numpy**\n",
        "**Question 11:**\n",
        "\n",
        "*  Create Numpy array np_height, that is equal to first column of np_baseball.\n",
        "*  Print out the mean of np_height.\n",
        "*  Print out the median of np_height\n"
      ],
      "metadata": {
        "id": "4QEpHcDnLcbi"
      }
    },
    {
      "cell_type": "code",
      "source": [
        "# Use np_baseball from previous question\n",
        "\n",
        "# Import numpy\n",
        "import numpy as np\n",
        "\n",
        "# Create np_height from np_baseball\n",
        "np_height = np_baseball[:,0]\n",
        "\n",
        "# Print out the mean of np_height\n",
        "print(\"Mean of height:\", np.mean(np_height))\n",
        "\n",
        "# Print out the median of np_height\n",
        "print(\"Median of height:\", np.median(np_height))\n"
      ],
      "metadata": {
        "colab": {
          "base_uri": "https://localhost:8080/"
        },
        "id": "wUw_DS4mLjAJ",
        "outputId": "1f28c70d-1045-4096-d4a5-01261f757899"
      },
      "execution_count": 33,
      "outputs": [
        {
          "output_type": "stream",
          "name": "stdout",
          "text": [
            "Mean of height: 198.25\n",
            "Median of height: 199.0\n"
          ]
        }
      ]
    },
    {
      "cell_type": "markdown",
      "source": [
        "# **Basic plots with matplotlib**\n",
        "**Question 12:**\n",
        "\n",
        "*  print() the last item from both the year and the poplist to see what the predicted population for the year 2100 is.\n",
        "*  Before you can start, you should import matplotlib.pyplotas plt. pyplot is a sub-package of matplotlib, hence the dot.\n",
        "*  Use plt.plot() to build a line plot. year should be mapped on the horizontal axis, pop on the vertical axis. Don't forget to finish off with the show() function to actually display the plot.\n"
      ],
      "metadata": {
        "id": "4mzb2MDyT5kG"
      }
    },
    {
      "cell_type": "code",
      "source": [
        "year = [1940, 1950, 1960, 1970, 1980, 1990, 2000, 2010,2020]\n",
        "pop = [2.5, 3.0, 3.7, 4.4, 5.3, 6.1, 6.9, 7.8,8.8]\n",
        "\n",
        "# Print the last item from year and pop\n",
        "print(\"Year:\", year[-1])\n",
        "print(\"Population:\", pop[-1])\n",
        "\n",
        "# Import matplotlib.pyplot as plt\n",
        "import matplotlib.pyplot as plt\n",
        "\n",
        "# Make a line plot: year on the x-axis, pop on the y-axis\n",
        "plt.plot(year, pop)\n",
        "\n",
        "# Labeling the axes\n",
        "plt.xlabel('Year')\n",
        "plt.ylabel('Population (in billions)')\n",
        "\n",
        "# Title for the plot\n",
        "plt.title('World Population Growth')\n",
        "\n",
        "# Display the plot\n",
        "plt.show()\n"
      ],
      "metadata": {
        "colab": {
          "base_uri": "https://localhost:8080/",
          "height": 507
        },
        "id": "x_VQNFoaUALD",
        "outputId": "8212e9be-4d77-48ac-9a92-946229576ee2"
      },
      "execution_count": 53,
      "outputs": [
        {
          "output_type": "stream",
          "name": "stdout",
          "text": [
            "Year: 2020\n",
            "Population: 8.8\n"
          ]
        },
        {
          "output_type": "display_data",
          "data": {
            "text/plain": [
              "<Figure size 640x480 with 1 Axes>"
            ],
            "image/png": "[encoded data removed]"
          },
          "metadata": {}
        }
      ]
    },
    {
      "cell_type": "markdown",
      "source": [
        "# **Histograms**\n",
        "**Question 13:**\n",
        "\n",
        "*  Use plt.hist() to create a histogram of the values in prices(a list containing atleast 20 different values). Do not specify the number of bins; Python will set the number of bins to 10 by default for you.\n",
        "*  Add plt.show() to actually display the histogram. Can you tell which bin contains the most observations?\n"
      ],
      "metadata": {
        "id": "CZY_dov7MQZY"
      }
    },
    {
      "cell_type": "code",
      "source": [
        "# Import matplotlib.pyplot as plt\n",
        "import matplotlib.pyplot as plt\n",
        "#Create a list named as prices\n",
        "prices = [1000,1200, 1100, 800, 900, 1500, 500, 800, 600, 1300, 1600, 1800, 1400, 1500, 1100, 700, 600, 1600, 500, 1500, 1600]\n",
        "# Create histogram of prices data\n",
        "plt.hist(prices)\n",
        "# Display histogram\n",
        "plt.show()"
      ],
      "metadata": {
        "colab": {
          "base_uri": "https://localhost:8080/",
          "height": 430
        },
        "id": "BdP5wK1KMYBK",
        "outputId": "b5e6e288-705b-4f1b-a0f5-790f15a316e8"
      },
      "execution_count": 45,
      "outputs": [
        {
          "output_type": "display_data",
          "data": {
            "text/plain": [
              "<Figure size 640x480 with 1 Axes>"
            ],
            "image/png": "[encoded data removed]"
          },
          "metadata": {}
        }
      ]
    },
    {
      "cell_type": "markdown",
      "source": [
        "# **Boolean logic & Controlflow**\n",
        "**Question 14:**\n",
        "\n",
        "*  Examine the if statement that prints out \"Looking around in the kitchen.\" if room equals \"kit\".\n",
        "*  Write another if statement that prints out \"big place!\" if area is greater than 15.\n"
      ],
      "metadata": {
        "id": "FqS_IW40OXNS"
      }
    },
    {
      "cell_type": "code",
      "source": [
        "# Define variables\n",
        "room = \"kit\"\n",
        "area = 14.0\n",
        "\n",
        "# if statement for room\n",
        "if room == \"kit\" :\n",
        "  print(\"looking around in the kitchen.\")\n",
        "\n",
        "# if statement for area\n",
        "if area > 15:\n",
        "    print(\"big place!\")\n"
      ],
      "metadata": {
        "colab": {
          "base_uri": "https://localhost:8080/"
        },
        "id": "1-Xd9LL_Ocbh",
        "outputId": "f2562aeb-88fb-4706-956d-3a86393fe6f4"
      },
      "execution_count": 46,
      "outputs": [
        {
          "output_type": "stream",
          "name": "stdout",
          "text": [
            "looking around in the kitchen.\n"
          ]
        }
      ]
    },
    {
      "cell_type": "markdown",
      "source": [
        "# **Pandas**\n",
        "**Question 15:**\n",
        "\n",
        "*  To import CSV files, you still need the pandas package: import it as pd.\n",
        "*  Use pd.read_csv() to import cars.csv data as a DataFrame. Store this dataframe as cars.\n",
        "*  Print out cars. Does everything look OK?\n"
      ],
      "metadata": {
        "id": "zXA_DJqjPvGL"
      }
    },
    {
      "cell_type": "code",
      "source": [
        "import pandas as pd\n",
        "\n",
        "# Use pd.read_csv() to import the cars.csv data as a DataFrame and store it as 'cars'\n",
        "cars = pd.read_csv('2020.csv')\n",
        "# Print out the 'cars' DataFrame\n",
        "print(cars)"
      ],
      "metadata": {
        "colab": {
          "base_uri": "https://localhost:8080/"
        },
        "id": "bdbXPNZPP3CG",
        "outputId": "f7ffcb22-acc6-4b30-fd23-801f453b0e71"
      },
      "execution_count": 56,
      "outputs": [
        {
          "output_type": "stream",
          "name": "stdout",
          "text": [
            "     year   make             model body_styles\n",
            "0    2020  Acura               ILX   [\"Sedan\"]\n",
            "1    2020  Acura               MDX     [\"SUV\"]\n",
            "2    2020  Acura  MDX Sport Hybrid     [\"SUV\"]\n",
            "3    2020  Acura               NSX   [\"Coupe\"]\n",
            "4    2020  Acura               RDX     [\"SUV\"]\n",
            "..    ...    ...               ...         ...\n",
            "370  2020  Volvo               V60   [\"Wagon\"]\n",
            "371  2020  Volvo               V90   [\"Wagon\"]\n",
            "372  2020  Volvo              XC40     [\"SUV\"]\n",
            "373  2020  Volvo              XC60     [\"SUV\"]\n",
            "374  2020  Volvo              XC90     [\"SUV\"]\n",
            "\n",
            "[375 rows x 4 columns]\n"
          ]
        }
      ]
    },
    {
      "cell_type": "markdown",
      "source": [
        "# **Think Tank**\n",
        "**Question 16:**\n",
        "\n",
        "*  The strings xlab and ylab are already set for you. Use these variables to set the label of the x- and y-axis.\n",
        "*  The string title is also coded for you. Use it to add a title to the plot.\n",
        "*  After these customizations, finish the script with plt.show()to actually display the plot.\n"
      ],
      "metadata": {
        "id": "7HuywVACP9Tb"
      }
    },
    {
      "cell_type": "code",
      "source": [
        "import matplotlib.pyplot as plt;\n",
        "import importlib;\n",
        "importlib.reload(plt)\n",
        "import pandas as pd\n",
        "plt.clf()\n",
        "\n",
        "df = pd.read_csv('http://assets.datacamp.com/course/intermediate_python/gapminder.csv', index_col = 0)\n",
        "gdp_cap = list(df.gdp_cap)\n",
        "life_exp = list(df.life_exp)\n",
        "# Basic scatter plot, log scale\n",
        "plt.scatter(gdp_cap, life_exp)\n",
        "plt.xscale('log')\n",
        "# Strings\n",
        "xlab = 'GDP per Capita [in USD]'\n",
        "ylab = 'Life Expectancy [in years]'\n",
        "title = 'World Development in 2007'\n",
        "\n",
        "# Add axis labels\n",
        "plt.xlabel(xlab)\n",
        "plt.ylabel(ylab)\n",
        "\n",
        "# Add title\n",
        "plt.title(title)\n",
        "\n",
        "# After customizing, display the plot\n",
        "plt.show()"
      ],
      "metadata": {
        "colab": {
          "base_uri": "https://localhost:8080/",
          "height": 476
        },
        "id": "EFNUmhJpQDjv",
        "outputId": "55243f5a-06ee-4000-f451-78c3e92749f0"
      },
      "execution_count": 59,
      "outputs": [
        {
          "output_type": "display_data",
          "data": {
            "text/plain": [
              "<Figure size 640x480 with 1 Axes>"
            ],
            "image/png": "[encoded data removed]"
          },
          "metadata": {}
        }
      ]
    }
  ]
}